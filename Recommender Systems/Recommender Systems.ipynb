{
 "cells": [
  {
   "cell_type": "code",
   "execution_count": 1,
   "metadata": {},
   "outputs": [],
   "source": [
    "rm(list=ls())"
   ]
  },
  {
   "cell_type": "code",
   "execution_count": 2,
   "metadata": {},
   "outputs": [
    {
     "name": "stderr",
     "output_type": "stream",
     "text": [
      "also installing the dependencies ‘arules’, ‘proxy’, ‘registry’, ‘irlba’\n",
      "\n"
     ]
    },
    {
     "name": "stdout",
     "output_type": "stream",
     "text": [
      "\n",
      "The downloaded binary packages are in\n",
      "\t/var/folders/w8/6f1pn8kn4h915hks2257dyk00000gn/T//RtmpW5Phel/downloaded_packages\n"
     ]
    }
   ],
   "source": [
    "install.packages('recommenderlab')"
   ]
  },
  {
   "cell_type": "code",
   "execution_count": 3,
   "metadata": {},
   "outputs": [
    {
     "name": "stderr",
     "output_type": "stream",
     "text": [
      "Loading required package: Matrix\n",
      "Loading required package: arules\n",
      "Warning message:\n",
      "“package ‘arules’ was built under R version 3.4.4”\n",
      "Attaching package: ‘arules’\n",
      "\n",
      "The following objects are masked from ‘package:base’:\n",
      "\n",
      "    abbreviate, write\n",
      "\n",
      "Loading required package: proxy\n",
      "Warning message:\n",
      "“package ‘proxy’ was built under R version 3.4.4”\n",
      "Attaching package: ‘proxy’\n",
      "\n",
      "The following object is masked from ‘package:Matrix’:\n",
      "\n",
      "    as.matrix\n",
      "\n",
      "The following objects are masked from ‘package:stats’:\n",
      "\n",
      "    as.dist, dist\n",
      "\n",
      "The following object is masked from ‘package:base’:\n",
      "\n",
      "    as.matrix\n",
      "\n",
      "Loading required package: registry\n",
      "Warning message:\n",
      "“package ‘registry’ was built under R version 3.4.3”"
     ]
    }
   ],
   "source": [
    "library('recommenderlab')"
   ]
  },
  {
   "cell_type": "code",
   "execution_count": 4,
   "metadata": {},
   "outputs": [],
   "source": [
    "data('MovieLense')"
   ]
  },
  {
   "cell_type": "code",
   "execution_count": 5,
   "metadata": {},
   "outputs": [],
   "source": [
    "user_ratings = MovieLense[rowCounts(MovieLense)>100,]"
   ]
  },
  {
   "cell_type": "code",
   "execution_count": 6,
   "metadata": {},
   "outputs": [],
   "source": [
    "train = user_ratings[1:50]"
   ]
  },
  {
   "cell_type": "code",
   "execution_count": 7,
   "metadata": {},
   "outputs": [],
   "source": [
    "recommender = Recommender(train, method = \"UBCF\")"
   ]
  },
  {
   "cell_type": "code",
   "execution_count": 8,
   "metadata": {},
   "outputs": [
    {
     "data": {
      "text/html": [
       "<dl>\n",
       "\t<dt>$`291`</dt>\n",
       "\t\t<dd><ol class=list-inline>\n",
       "\t<li>'Titanic (1997)'</li>\n",
       "\t<li>'Contact (1997)'</li>\n",
       "\t<li>'Alien (1979)'</li>\n",
       "\t<li>'Amadeus (1984)'</li>\n",
       "\t<li>'Godfather, The (1972)'</li>\n",
       "\t<li>'Aliens (1986)'</li>\n",
       "\t<li>'Sting, The (1973)'</li>\n",
       "\t<li>'American Werewolf in London, An (1981)'</li>\n",
       "\t<li>'Schindler\\'s List (1993)'</li>\n",
       "\t<li>'Glory (1989)'</li>\n",
       "</ol>\n",
       "</dd>\n",
       "\t<dt>$`292`</dt>\n",
       "\t\t<dd><ol class=list-inline>\n",
       "\t<li>'Usual Suspects, The (1995)'</li>\n",
       "\t<li>'Amadeus (1984)'</li>\n",
       "\t<li>'Titanic (1997)'</li>\n",
       "\t<li>'Raising Arizona (1987)'</li>\n",
       "\t<li>'Citizen Kane (1941)'</li>\n",
       "\t<li>'Godfather: Part II, The (1974)'</li>\n",
       "\t<li>'Young Frankenstein (1974)'</li>\n",
       "\t<li>'Brazil (1985)'</li>\n",
       "\t<li>'Butch Cassidy and the Sundance Kid (1969)'</li>\n",
       "\t<li>'Stand by Me (1986)'</li>\n",
       "</ol>\n",
       "</dd>\n",
       "</dl>\n"
      ],
      "text/latex": [
       "\\begin{description}\n",
       "\\item[\\$`291`] \\begin{enumerate*}\n",
       "\\item 'Titanic (1997)'\n",
       "\\item 'Contact (1997)'\n",
       "\\item 'Alien (1979)'\n",
       "\\item 'Amadeus (1984)'\n",
       "\\item 'Godfather, The (1972)'\n",
       "\\item 'Aliens (1986)'\n",
       "\\item 'Sting, The (1973)'\n",
       "\\item 'American Werewolf in London, An (1981)'\n",
       "\\item 'Schindler\\textbackslash{}'s List (1993)'\n",
       "\\item 'Glory (1989)'\n",
       "\\end{enumerate*}\n",
       "\n",
       "\\item[\\$`292`] \\begin{enumerate*}\n",
       "\\item 'Usual Suspects, The (1995)'\n",
       "\\item 'Amadeus (1984)'\n",
       "\\item 'Titanic (1997)'\n",
       "\\item 'Raising Arizona (1987)'\n",
       "\\item 'Citizen Kane (1941)'\n",
       "\\item 'Godfather: Part II, The (1974)'\n",
       "\\item 'Young Frankenstein (1974)'\n",
       "\\item 'Brazil (1985)'\n",
       "\\item 'Butch Cassidy and the Sundance Kid (1969)'\n",
       "\\item 'Stand by Me (1986)'\n",
       "\\end{enumerate*}\n",
       "\n",
       "\\end{description}\n"
      ],
      "text/markdown": [
       "$`291`\n",
       ":   1. 'Titanic (1997)'\n",
       "2. 'Contact (1997)'\n",
       "3. 'Alien (1979)'\n",
       "4. 'Amadeus (1984)'\n",
       "5. 'Godfather, The (1972)'\n",
       "6. 'Aliens (1986)'\n",
       "7. 'Sting, The (1973)'\n",
       "8. 'American Werewolf in London, An (1981)'\n",
       "9. 'Schindler\\'s List (1993)'\n",
       "10. 'Glory (1989)'\n",
       "\n",
       "\n",
       "\n",
       "$`292`\n",
       ":   1. 'Usual Suspects, The (1995)'\n",
       "2. 'Amadeus (1984)'\n",
       "3. 'Titanic (1997)'\n",
       "4. 'Raising Arizona (1987)'\n",
       "5. 'Citizen Kane (1941)'\n",
       "6. 'Godfather: Part II, The (1974)'\n",
       "7. 'Young Frankenstein (1974)'\n",
       "8. 'Brazil (1985)'\n",
       "9. 'Butch Cassidy and the Sundance Kid (1969)'\n",
       "10. 'Stand by Me (1986)'\n",
       "\n",
       "\n",
       "\n",
       "\n",
       "\n"
      ],
      "text/plain": [
       "$`291`\n",
       " [1] \"Titanic (1997)\"                        \n",
       " [2] \"Contact (1997)\"                        \n",
       " [3] \"Alien (1979)\"                          \n",
       " [4] \"Amadeus (1984)\"                        \n",
       " [5] \"Godfather, The (1972)\"                 \n",
       " [6] \"Aliens (1986)\"                         \n",
       " [7] \"Sting, The (1973)\"                     \n",
       " [8] \"American Werewolf in London, An (1981)\"\n",
       " [9] \"Schindler's List (1993)\"               \n",
       "[10] \"Glory (1989)\"                          \n",
       "\n",
       "$`292`\n",
       " [1] \"Usual Suspects, The (1995)\"               \n",
       " [2] \"Amadeus (1984)\"                           \n",
       " [3] \"Titanic (1997)\"                           \n",
       " [4] \"Raising Arizona (1987)\"                   \n",
       " [5] \"Citizen Kane (1941)\"                      \n",
       " [6] \"Godfather: Part II, The (1974)\"           \n",
       " [7] \"Young Frankenstein (1974)\"                \n",
       " [8] \"Brazil (1985)\"                            \n",
       " [9] \"Butch Cassidy and the Sundance Kid (1969)\"\n",
       "[10] \"Stand by Me (1986)\"                       \n"
      ]
     },
     "metadata": {},
     "output_type": "display_data"
    }
   ],
   "source": [
    "prediction = predict(recommender, user_ratings[101:102], n = 10)\n",
    "as(prediction, 'list')"
   ]
  },
  {
   "cell_type": "code",
   "execution_count": 13,
   "metadata": {},
   "outputs": [
    {
     "data": {
      "text/html": [
       "<table>\n",
       "<thead><tr><th></th><th scope=col>Toy Story (1995)</th><th scope=col>GoldenEye (1995)</th><th scope=col>Four Rooms (1995)</th><th scope=col>Get Shorty (1995)</th><th scope=col>Copycat (1995)</th><th scope=col>Shanghai Triad (Yao a yao yao dao waipo qiao) (1995)</th><th scope=col>Twelve Monkeys (1995)</th><th scope=col>Babe (1995)</th><th scope=col>Dead Man Walking (1995)</th><th scope=col>Richard III (1995)</th><th scope=col>⋯</th><th scope=col>Clean Slate (1994)</th><th scope=col>Lightning Jack (1994)</th><th scope=col>Stupids, The (1996)</th><th scope=col>Pest, The (1997)</th><th scope=col>Geronimo: An American Legend (1993)</th><th scope=col>Double vie de Veronique, La (Double Life of Veronique, The) (1991)</th><th scope=col>Until the End of the World (Bis ans Ende der Welt) (1991)</th><th scope=col>Waiting for Guffman (1996)</th><th scope=col>I Shot Andy Warhol (1996)</th><th scope=col>Stealing Beauty (1996)</th></tr></thead>\n",
       "<tbody>\n",
       "\t<tr><th scope=row>291</th><td>NA      </td><td>3.583947</td><td>      NA</td><td>      NA</td><td>      NA</td><td>3.739335</td><td>NA      </td><td>      NA</td><td>NA      </td><td>3.687217</td><td>⋯       </td><td>3.734787</td><td>3.651616</td><td>3.540709</td><td>3.514595</td><td>3.653648</td><td>3.722973</td><td>3.621776</td><td>3.695739</td><td>3.592288</td><td>3.594644</td></tr>\n",
       "\t<tr><th scope=row>292</th><td>NA      </td><td>      NA</td><td>4.203523</td><td>4.371288</td><td>4.199075</td><td>4.294458</td><td>NA      </td><td>4.637201</td><td>NA      </td><td>      NA</td><td>⋯       </td><td>4.246041</td><td>4.213919</td><td>4.074574</td><td>4.149674</td><td>4.191220</td><td>4.208626</td><td>4.093475</td><td>4.243760</td><td>4.051897</td><td>4.228359</td></tr>\n",
       "</tbody>\n",
       "</table>\n"
      ],
      "text/latex": [
       "\\begin{tabular}{r|llllllllllllllllllllllllllllllllllllllllllllllllllllllllllllllllllllllllllllllllllllllllllllllllllllllllllllllllllllllllllllllllllllllllllllllllllllllllllllllllllllllllllllllllllllllllllllllllllllllllllllllllllllllllllllllllllllllllllllllllllllllllllllllllllllllllllllllllllllllllllllllllllllllllllllllllllllllllllllllllllllllllllllllllllllllllllllllllllllllllllllllllllllllllllllllllllllllllllllllllllllllllllllllllllllllllllllllllllllllllllllllllllllllllllllllllllllllllllllllllllllllllllllllllllllllllllllllllllllllllllllllllllllllllllllllllllllllllllllllllllllllllllllllllllllllllllllllllllllllllllllllllllllllllllllllllllllllllllllllllllllllllllllllllllllllllllllllllllllllllllllllllllllllllllllllllllllllllllllllllllllllllllllllllllllllllllllllllllllllllllllllllllllllllllllllllllllllllllllllllllllllllllllllllllllllllllllllllllllllllllllllllllllllllllllllllllllllllllllllllllllllllllllllllllllllllllllllllllllllllllllllllllllllllllllllllllllllllllllllllllllllllllllllllllllllllllllllllllllllll}\n",
       "  & Toy Story (1995) & GoldenEye (1995) & Four Rooms (1995) & Get Shorty (1995) & Copycat (1995) & Shanghai Triad (Yao a yao yao dao waipo qiao) (1995) & Twelve Monkeys (1995) & Babe (1995) & Dead Man Walking (1995) & Richard III (1995) & ⋯ & Clean Slate (1994) & Lightning Jack (1994) & Stupids, The (1996) & Pest, The (1997) & Geronimo: An American Legend (1993) & Double vie de Veronique, La (Double Life of Veronique, The) (1991) & Until the End of the World (Bis ans Ende der Welt) (1991) & Waiting for Guffman (1996) & I Shot Andy Warhol (1996) & Stealing Beauty (1996)\\\\\n",
       "\\hline\n",
       "\t291 & NA       & 3.583947 &       NA &       NA &       NA & 3.739335 & NA       &       NA & NA       & 3.687217 & ⋯        & 3.734787 & 3.651616 & 3.540709 & 3.514595 & 3.653648 & 3.722973 & 3.621776 & 3.695739 & 3.592288 & 3.594644\\\\\n",
       "\t292 & NA       &       NA & 4.203523 & 4.371288 & 4.199075 & 4.294458 & NA       & 4.637201 & NA       &       NA & ⋯        & 4.246041 & 4.213919 & 4.074574 & 4.149674 & 4.191220 & 4.208626 & 4.093475 & 4.243760 & 4.051897 & 4.228359\\\\\n",
       "\\end{tabular}\n"
      ],
      "text/markdown": [
       "\n",
       "| <!--/--> | Toy Story (1995) | GoldenEye (1995) | Four Rooms (1995) | Get Shorty (1995) | Copycat (1995) | Shanghai Triad (Yao a yao yao dao waipo qiao) (1995) | Twelve Monkeys (1995) | Babe (1995) | Dead Man Walking (1995) | Richard III (1995) | ⋯ | Clean Slate (1994) | Lightning Jack (1994) | Stupids, The (1996) | Pest, The (1997) | Geronimo: An American Legend (1993) | Double vie de Veronique, La (Double Life of Veronique, The) (1991) | Until the End of the World (Bis ans Ende der Welt) (1991) | Waiting for Guffman (1996) | I Shot Andy Warhol (1996) | Stealing Beauty (1996) | \n",
       "|---|---|\n",
       "| 291 | NA       | 3.583947 |       NA |       NA |       NA | 3.739335 | NA       |       NA | NA       | 3.687217 | ⋯        | 3.734787 | 3.651616 | 3.540709 | 3.514595 | 3.653648 | 3.722973 | 3.621776 | 3.695739 | 3.592288 | 3.594644 | \n",
       "| 292 | NA       |       NA | 4.203523 | 4.371288 | 4.199075 | 4.294458 | NA       | 4.637201 | NA       |       NA | ⋯        | 4.246041 | 4.213919 | 4.074574 | 4.149674 | 4.191220 | 4.208626 | 4.093475 | 4.243760 | 4.051897 | 4.228359 | \n",
       "\n",
       "\n"
      ],
      "text/plain": [
       "    Toy Story (1995) GoldenEye (1995) Four Rooms (1995) Get Shorty (1995)\n",
       "291 NA               3.583947               NA                NA         \n",
       "292 NA                     NA         4.203523          4.371288         \n",
       "    Copycat (1995) Shanghai Triad (Yao a yao yao dao waipo qiao) (1995)\n",
       "291       NA       3.739335                                            \n",
       "292 4.199075       4.294458                                            \n",
       "    Twelve Monkeys (1995) Babe (1995) Dead Man Walking (1995)\n",
       "291 NA                          NA    NA                     \n",
       "292 NA                    4.637201    NA                     \n",
       "    Richard III (1995) ⋯ Clean Slate (1994) Lightning Jack (1994)\n",
       "291 3.687217           ⋯ 3.734787           3.651616             \n",
       "292       NA           ⋯ 4.246041           4.213919             \n",
       "    Stupids, The (1996) Pest, The (1997) Geronimo: An American Legend (1993)\n",
       "291 3.540709            3.514595         3.653648                           \n",
       "292 4.074574            4.149674         4.191220                           \n",
       "    Double vie de Veronique, La (Double Life of Veronique, The) (1991)\n",
       "291 3.722973                                                          \n",
       "292 4.208626                                                          \n",
       "    Until the End of the World (Bis ans Ende der Welt) (1991)\n",
       "291 3.621776                                                 \n",
       "292 4.093475                                                 \n",
       "    Waiting for Guffman (1996) I Shot Andy Warhol (1996) Stealing Beauty (1996)\n",
       "291 3.695739                   3.592288                  3.594644              \n",
       "292 4.243760                   4.051897                  4.228359              "
      ]
     },
     "metadata": {},
     "output_type": "display_data"
    }
   ],
   "source": [
    "# If used with option type = 'ratings'\n",
    "prediction = predict(recommender, user_ratings[101:102], n = 10, type = 'ratings')\n",
    "as(prediction, 'matrix')[,1:1000]"
   ]
  },
  {
   "cell_type": "code",
   "execution_count": null,
   "metadata": {},
   "outputs": [],
   "source": []
  }
 ],
 "metadata": {
  "kernelspec": {
   "display_name": "R",
   "language": "R",
   "name": "ir"
  },
  "language_info": {
   "codemirror_mode": "r",
   "file_extension": ".r",
   "mimetype": "text/x-r-source",
   "name": "R",
   "pygments_lexer": "r",
   "version": "3.4.1"
  }
 },
 "nbformat": 4,
 "nbformat_minor": 2
}
